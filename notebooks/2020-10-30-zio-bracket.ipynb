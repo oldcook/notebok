{
  "metadata" : {
    "config" : {
      "dependencies" : {
        "scala" : [
          "dev.zio:zio_2.12:1.0.3"
        ]
      },
      "exclusions" : [
      ],
      "repositories" : [
      ],
      "sparkConfig" : {
        
      },
      "env" : {
        
      }
    },
    "language_info" : {
      "name" : "scala"
    }
  },
  "nbformat" : 4,
  "nbformat_minor" : 0,
  "cells" : [
    {
      "cell_type" : "markdown",
      "execution_count" : 0,
      "metadata" : {
        "language" : "text"
      },
      "language" : "text",
      "source" : [
        "# 2020 10 30 zio bracket\n",
        "\n",
        "This is a text cell. Start editing!"
      ],
      "outputs" : [
      ]
    },
    {
      "cell_type" : "code",
      "execution_count" : 1,
      "metadata" : {
        "cell.metadata.exec_info" : {
          "startTs" : 1610428818261,
          "endTs" : 1610428818799
        },
        "language" : "scala"
      },
      "language" : "scala",
      "source" : [
        "import zio._\n",
        "import console._\n",
        "\n",
        "val runner = Runtime.default"
      ],
      "outputs" : [
      ]
    },
    {
      "cell_type" : "code",
      "execution_count" : 2,
      "metadata" : {
        "cell.metadata.exec_info" : {
          "startTs" : 1610428826678,
          "endTs" : 1610428827028
        },
        "language" : "scala"
      },
      "language" : "scala",
      "source" : [
        "val example: URIO[Console, Unit] = \n",
        "  putStrLn(\"Create unit\").bracket(unit => putStrLn(s\"Destroy unit $unit\")) { r =>\n",
        "    putStrLn(s\"use unit $r\")\n",
        "  }\n",
        "\n",
        "runner.unsafeRun(example)"
      ],
      "outputs" : [
        {
          "name" : "stdout",
          "text" : [
            "Create unit\n",
            "use unit ()\n",
            "Destroy unit ()\n"
          ],
          "output_type" : "stream"
        }
      ]
    },
    {
      "cell_type" : "markdown",
      "execution_count" : 3,
      "metadata" : {
        "language" : "text"
      },
      "language" : "text",
      "source" : [
        "#### ZIO accessM\n",
        "\n",
        "\n"
      ],
      "outputs" : [
      ]
    },
    {
      "cell_type" : "code",
      "execution_count" : 4,
      "metadata" : {
        "cell.metadata.exec_info" : {
          "startTs" : 1610428848500,
          "endTs" : 1610428848964
        },
        "language" : "scala"
      },
      "language" : "scala",
      "source" : [
        "trait HelloService {\n",
        "  def sayHello: String\n",
        "}\n",
        "\n",
        "def hello(name: String) =\n",
        "  ZIO.accessM[HelloService](hs => UIO(s\"${hs.sayHello}, ${name}!\"))\n",
        "\n",
        "val live = new HelloService {\n",
        "  def sayHello = \"Hello\"\n",
        "}\n",
        "\n",
        "val program = hello(\"Tom\").provide(live).flatMap(m => putStrLn(m))\n",
        "\n",
        "runner.unsafeRunSync(program)"
      ],
      "outputs" : [
        {
          "name" : "stdout",
          "text" : [
            "Hello, Tom!\n"
          ],
          "output_type" : "stream"
        },
        {
          "execution_count" : 4,
          "data" : {
            "text/plain" : [
              "Success(())"
            ]
          },
          "metadata" : {
            "name" : "Out",
            "type" : "Exit[Nothing, Unit]"
          },
          "output_type" : "execute_result"
        }
      ]
    },
    {
      "cell_type" : "code",
      "execution_count" : 5,
      "metadata" : {
        "cell.metadata.exec_info" : {
          "startTs" : 1610428927740,
          "endTs" : 1610428927792
        },
        "language" : "scala"
      },
      "language" : "scala",
      "source" : [
        "def hello2(name: String) =\n",
        "  ZIO.accessM[Has[String]](hs => UIO(s\"${hs.get}, ${name}!\"))\n",
        "\n",
        "val live2 = ZLayer.fromEffect(UIO(\"Hello\"))\n",
        "\n",
        "val program2 = hello2(\"Tommy\").provideLayer(live2).flatMap(m => putStrLn(m))\n",
        "\n",
        "Runtime.default.unsafeRunSync(program2)"
      ],
      "outputs" : [
        {
          "execution_count" : 5,
          "data" : {
            "application/json" : [
              {
                "pos" : {
                  "sourceId" : "Cell5",
                  "start" : 71,
                  "end" : 71,
                  "point" : 71
                },
                "msg" : "object Tags is not a member of package izumi.reflect",
                "severity" : 2
              },
              {
                "pos" : {
                  "sourceId" : "Cell5",
                  "start" : 119,
                  "end" : 119,
                  "point" : 119
                },
                "msg" : "object Tags is not a member of package izumi.reflect",
                "severity" : 2
              }
            ],
            "text/plain" : [
              "Error: object Tags is not a member of package izumi.reflect (71)",
              "Error: object Tags is not a member of package izumi.reflect (119)"
            ]
          },
          "metadata" : {
            "rel" : "compiler_errors"
          },
          "output_type" : "execute_result"
        }
      ]
    }
  ]
}