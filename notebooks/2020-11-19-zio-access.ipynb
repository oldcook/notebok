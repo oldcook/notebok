{
  "metadata" : {
    "config" : {
      "dependencies" : {
        "scala" : [
          "dev.zio:zio_2.12:1.0.3"
        ]
      },
      "exclusions" : [
      ],
      "repositories" : [
      ],
      "sparkConfig" : {
        
      },
      "env" : {
        
      }
    },
    "language_info" : {
      "name" : "scala"
    }
  },
  "nbformat" : 4,
  "nbformat_minor" : 0,
  "cells" : [
    {
      "cell_type" : "markdown",
      "execution_count" : 0,
      "metadata" : {
        "language" : "text"
      },
      "language" : "text",
      "source" : [
        "# 2020 11 19 zio access\n",
        "\n",
        "This is a text cell. Start editing!"
      ],
      "outputs" : [
      ]
    },
    {
      "cell_type" : "code",
      "execution_count" : 3,
      "metadata" : {
        "cell.metadata.exec_info" : {
          "startTs" : 1610429132752,
          "endTs" : 1610429134672
        },
        "language" : "scala"
      },
      "language" : "scala",
      "source" : [
        "import zio._\n",
        "import console._\n",
        "\n",
        "val runner = Runtime.default"
      ],
      "outputs" : [
      ]
    },
    {
      "cell_type" : "code",
      "execution_count" : 1,
      "metadata" : {
        "cell.metadata.exec_info" : {
          "startTs" : 1610429147932,
          "endTs" : 1610429149115
        },
        "language" : "scala"
      },
      "language" : "scala",
      "source" : [
        "trait HelloService {\n",
        "  def sayHello: String\n",
        "}\n",
        "\n",
        "def hello(name: String) =\n",
        "  ZIO.accessM[HelloService](hs => UIO(s\"${hs.sayHello}, ${name}!\"))\n",
        "\n",
        "val live = new HelloService {\n",
        "  def sayHello = \"Hello\"\n",
        "}\n",
        "\n",
        "val program = hello(\"Tom\").provide(live).flatMap(m => putStrLn(m))\n",
        "\n",
        "runner.unsafeRunSync(program)"
      ],
      "outputs" : [
        {
          "name" : "stdout",
          "text" : [
            "Hello, Tom!\n"
          ],
          "output_type" : "stream"
        },
        {
          "execution_count" : 1,
          "data" : {
            "text/plain" : [
              "Success(())"
            ]
          },
          "metadata" : {
            "name" : "Out",
            "type" : "Exit[Nothing, Unit]"
          },
          "output_type" : "execute_result"
        }
      ]
    },
    {
      "cell_type" : "code",
      "execution_count" : 2,
      "metadata" : {
        "cell.metadata.exec_info" : {
          "startTs" : 1610429312133,
          "endTs" : 1610429312251
        },
        "language" : "scala"
      },
      "language" : "scala",
      "source" : [
        "def bye(name: String) =\n",
        "  ZIO.accessM[Has[String]](hs => UIO(s\"${hs.get}, ${name}!\"))\n",
        "\n",
        "val layerBye = ZLayer.fromEffect(UIO(\"Bye\"))\n",
        "\n",
        "val prog = bye(\"Tommy\").provideLayer(layerBye).flatMap(m => putStrLn(m))\n",
        "\n",
        "runner.unsafeRunSync(prog)"
      ],
      "outputs" : [
        {
          "execution_count" : 2,
          "data" : {
            "application/json" : [
              {
                "pos" : {
                  "sourceId" : "Cell2",
                  "start" : 68,
                  "end" : 68,
                  "point" : 68
                },
                "msg" : "object Tags is not a member of package izumi.reflect",
                "severity" : 2
              },
              {
                "pos" : {
                  "sourceId" : "Cell2",
                  "start" : 119,
                  "end" : 119,
                  "point" : 119
                },
                "msg" : "object Tags is not a member of package izumi.reflect",
                "severity" : 2
              }
            ],
            "text/plain" : [
              "Error: object Tags is not a member of package izumi.reflect (68)",
              "Error: object Tags is not a member of package izumi.reflect (119)"
            ]
          },
          "metadata" : {
            "rel" : "compiler_errors"
          },
          "output_type" : "execute_result"
        }
      ]
    }
  ]
}