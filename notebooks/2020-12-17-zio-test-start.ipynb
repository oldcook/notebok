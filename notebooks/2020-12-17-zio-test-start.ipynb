{
  "metadata" : {
    "config" : {
      "dependencies" : {
        "scala" : [
          "dev.zio:zio_2.12:1.0.3",
          "dev.zio:zio-test_2.12:1.0.3"
        ]
      },
      "exclusions" : [
      ],
      "repositories" : [
      ],
      "sparkConfig" : {
        
      },
      "env" : {
        
      }
    },
    "language_info" : {
      "name" : "scala"
    }
  },
  "nbformat" : 4,
  "nbformat_minor" : 0,
  "cells" : [
    {
      "cell_type" : "markdown",
      "execution_count" : 0,
      "metadata" : {
        "language" : "text"
      },
      "language" : "text",
      "source" : [
        "# 2021 01 10 zio test start\n",
        "\n",
        "This is a text cell. Start editing!"
      ],
      "outputs" : [
      ]
    },
    {
      "cell_type" : "code",
      "execution_count" : 1,
      "metadata" : {
        "cell.metadata.exec_info" : {
          "startTs" : 1610363805639,
          "endTs" : 1610363805827
        },
        "language" : "scala"
      },
      "language" : "scala",
      "source" : [
        "import zio.{test => _, _}\n",
        "import zio.test._\n",
        "import Assertion._\n",
        "import TestAspect._\n",
        "import environment._\n",
        "import zio.duration._"
      ],
      "outputs" : [
      ]
    },
    {
      "cell_type" : "code",
      "execution_count" : 2,
      "metadata" : {
        "cell.metadata.exec_info" : {
          "startTs" : 1610363102855,
          "endTs" : 1610363105751
        },
        "language" : "scala"
      },
      "language" : "scala",
      "source" : [
        "object mySpec extends DefaultRunnableSpec {\n",
        "    override def runner: TestRunner[TestEnvironment, Any] =\n",
        "      defaultTestRunner\n",
        "\n",
        "    override def spec =\n",
        "      suite(\"AdditionSpec\")(\n",
        "        test(\"addition works\") {\n",
        "          println(\"some message...\")\n",
        "          assert(1 + 1)(equalTo(32))\n",
        "        }\n",
        "      )\n",
        "  }\n",
        "\n",
        "mySpec.runner.unsafeRunSync(mySpec.spec)"
      ],
      "outputs" : [
        {
          "name" : "stdout",
          "text" : [
            "some message...\n",
            "\u001b[31m- AdditionSpec\u001b[0m\n",
            "  \u001b[31m- addition works\u001b[0m\n",
            "    \u001b[34m2\u001b[0m did not satisfy \u001b[36mequalTo(32)\u001b[0m\n",
            "\u001b[36mRan 1 test in 790 ms: 0 succeeded, 0 ignored, 1 failed\u001b[0m\n"
          ],
          "output_type" : "stream"
        },
        {
          "execution_count" : 2,
          "data" : {
            "text/plain" : [
              "Success(ExecutedSpec(SuiteCase(AdditionSpec,Vector(ExecutedSpec(TestCase(addition works,Left(Assertion(Value(FailureDetails(List(zio.test.AssertionValue$$anon$1@245ec8f9),None)))),Map()))))))"
            ]
          },
          "metadata" : {
            "name" : "Out",
            "type" : "Exit[Nothing, ExecutedSpec[Any]]"
          },
          "output_type" : "execute_result"
        }
      ]
    },
    {
      "cell_type" : "code",
      "execution_count" : 3,
      "metadata" : {
        "cell.metadata.exec_info" : {
          "startTs" : 1610363809578,
          "endTs" : 1610363810088
        },
        "language" : "scala"
      },
      "language" : "scala",
      "source" : [
        "object IntroSpec extends DefaultRunnableSpec {\n",
        "\n",
        "  val eff2 = for {\n",
        "    p <- Promise.make[Nothing, Int]\n",
        "    // _ <- TestClock.adjust(1 second)\n",
        "    //_     <- ZIO.sleep(1 second)\n",
        "    _ <- p.succeed(2).fork\n",
        "    value <- p.await\n",
        "  } yield value\n",
        "\n",
        "  override def spec =\n",
        "    suite(\"IntroSpec\")(\n",
        "      test(\"addition works\") {\n",
        "        assert(1 + 1)(equalTo(2))\n",
        "      } @@ ignore,\n",
        "      testM(\"effect test\") {\n",
        "        assertM(eff2)(equalTo(32))\n",
        "      },\n",
        "      testM(\"effect map test\") {\n",
        "        ZIO.succeed(2).map(n => assert(n)(equalTo(2)))\n",
        "      },\n",
        "      testM(\"combination test\") {\n",
        "        for {\n",
        "          a <- ZIO.succeed(2)\n",
        "          b <- ZIO.succeed(3)\n",
        "        } yield assert(a + b)(equalTo(5))\n",
        "      },\n",
        "      testM(\"each result test\") {\n",
        "        for {\n",
        "          a <- ZIO.succeed(2)\n",
        "          b <- ZIO.succeed(3)\n",
        "        } yield assert(a)(equalTo(2)) && assert(b)(equalTo(3))\n",
        "      },\n",
        "      testM(\"ignore this test\") {\n",
        "        ???\n",
        "      } @@ ignore,\n",
        "      suite(\"db tests\")(\n",
        "        test(\"db1\") {\n",
        "          ???\n",
        "        } @@ ignore\n",
        "      ) @@ sequential\n",
        "    ) @@ parallel // all tests in a suite run in parallel by default\n",
        "}"
      ],
      "outputs" : [
      ]
    },
    {
      "cell_type" : "code",
      "execution_count" : 4,
      "metadata" : {
        "jupyter.outputs_hidden" : true,
        "cell.metadata.exec_info" : {
          "startTs" : 1610363812883,
          "endTs" : 1610363813233
        },
        "language" : "scala"
      },
      "language" : "scala",
      "source" : [
        "IntroSpec.runner.unsafeRunSync(IntroSpec.spec)"
      ],
      "outputs" : [
        {
          "execution_count" : 4,
          "data" : {
            "text/plain" : [
              "Success(ExecutedSpec(SuiteCase(IntroSpec,Vector(ExecutedSpec(TestCase(addition works,Right(Ignored),Map(zio.test.TestAnnotation@a65366a5 -> 1))), ExecutedSpec(TestCase(effect test,Left(Assertion(Value(FailureDetails(List(zio.test.AssertionValue$$anon$1@6"
            ]
          },
          "metadata" : {
            "name" : "Out",
            "type" : "Exit[Nothing, ExecutedSpec[Any]]"
          },
          "output_type" : "execute_result"
        }
      ]
    },
    {
      "cell_type" : "code",
      "execution_count" : 5,
      "metadata" : {
        "cell.metadata.exec_info" : {
          "startTs" : 1610363863130,
          "endTs" : 1610363863425
        },
        "language" : "scala"
      },
      "language" : "scala",
      "source" : [
        "IntroSpec.run"
      ],
      "outputs" : [
        {
          "execution_count" : 5,
          "data" : {
            "text/plain" : [
              "zio.ZIO$FlatMap@5dc487"
            ]
          },
          "metadata" : {
            "name" : "Out",
            "type" : "URIO[<refinement>, ExecutedSpec[Failure]]"
          },
          "output_type" : "execute_result"
        }
      ]
    }
  ]
}