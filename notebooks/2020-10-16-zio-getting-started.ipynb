{
  "metadata" : {
    "config" : {
      "dependencies" : {
        "scala" : [
          "dev.zio:zio_2.12:1.0.3"
        ]
      },
      "exclusions" : [
      ],
      "repositories" : [
      ],
      "sparkConfig" : {
        
      },
      "env" : {
        
      }
    },
    "language_info" : {
      "name" : "scala"
    }
  },
  "nbformat" : 4,
  "nbformat_minor" : 0,
  "cells" : [
    {
      "cell_type" : "markdown",
      "execution_count" : 0,
      "metadata" : {
        "language" : "text"
      },
      "language" : "text",
      "source" : [
        "# 2020 10 16 ZIO getting started\n",
        "\n",
        "**ZIO Effect Async Example**\n",
        "\n",
        "\n"
      ],
      "outputs" : [
      ]
    },
    {
      "cell_type" : "code",
      "execution_count" : 1,
      "metadata" : {
        "cell.metadata.exec_info" : {
          "startTs" : 1609995166161,
          "endTs" : 1609995166526
        },
        "language" : "scala"
      },
      "language" : "scala",
      "source" : [
        "import zio._\n",
        "\n",
        "def toThree(callme: Int => Unit): Unit = callme(3)\n",
        "\n",
        "def add(x: Int): UIO[Int] = UIO.effectAsync[Int]{ callback => \n",
        "  toThree(i => callback(UIO.succeed(i + x)))\n",
        "}\n",
        "\n",
        "Runtime.default.unsafeRun(for {\n",
        "  i <- add(5)\n",
        "  _ <- console.putStrLn(s\"i = $i\")\n",
        "} yield ())"
      ],
      "outputs" : [
        {
          "name" : "stdout",
          "text" : [
            "i = 8\n"
          ],
          "output_type" : "stream"
        }
      ]
    },
    {
      "cell_type" : "code",
      "execution_count" : 2,
      "metadata" : {
        "cell.metadata.exec_info" : {
          "startTs" : 1609995184570,
          "endTs" : 1609995187866
        },
        "language" : "scala"
      },
      "language" : "scala",
      "source" : [
        "import java.util.concurrent.TimeUnit\n",
        "import java.util.concurrent.ScheduledThreadPoolExecutor\n",
        "\n",
        "val scheduler = new ScheduledThreadPoolExecutor(1)\n",
        "\n",
        "def sleep(n: Long, unit: TimeUnit): UIO[Unit] =\n",
        "    UIO.effectAsync[Unit] { callback =>\n",
        "      scheduler.schedule(\n",
        "        new Runnable {\n",
        "          def run = callback(UIO.unit)\n",
        "        },\n",
        "        n,\n",
        "        unit\n",
        "      )\n",
        "    }\n",
        "\n",
        "Runtime.default.unsafeRun(for {\n",
        "  _ <- console.putStrLn(\"Hello\")\n",
        "  _ <- sleep(3L, TimeUnit.SECONDS)\n",
        "  _ <- console.putStrLn(\"World\")\n",
        "  _ <- UIO(scheduler.shutdown())\n",
        "} yield ())"
      ],
      "outputs" : [
        {
          "name" : "stdout",
          "text" : [
            "Hello\n",
            "World\n"
          ],
          "output_type" : "stream"
        }
      ]
    }
  ]
}