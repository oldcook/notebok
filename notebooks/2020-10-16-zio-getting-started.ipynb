{
  "metadata" : {
    "config" : {
      "dependencies" : {
        "scala" : [
          "dev.zio:zio_2.12:1.0.3"
        ]
      },
      "exclusions" : [
      ],
      "repositories" : [
      ],
      "sparkConfig" : {
        
      },
      "env" : {
        
      }
    },
    "language_info" : {
      "name" : "scala"
    }
  },
  "nbformat" : 4,
  "nbformat_minor" : 0,
  "cells" : [
    {
      "cell_type" : "markdown",
      "execution_count" : 0,
      "metadata" : {
        "language" : "text"
      },
      "language" : "text",
      "source" : [
        "# 2020 10 16 ZIO getting started\n",
        "\n",
        "**ZIO Effect Async Example**\n",
        "\n",
        "\n"
      ],
      "outputs" : [
      ]
    },
    {
      "cell_type" : "code",
      "execution_count" : 1,
      "metadata" : {
        "cell.metadata.exec_info" : {
          "startTs" : 1609857107168,
          "endTs" : 1609857107415
        },
        "language" : "scala"
      },
      "language" : "scala",
      "source" : [
        "import zio._\n",
        "\n",
        "def add(callme: Int => Unit): Unit = callme(3)\n",
        "\n",
        "val addz: UIO[Int] = UIO.effectAsync[Int]{ callback => \n",
        "  add(i => callback(UIO.succeed(i + 2)))\n",
        "}\n",
        "\n",
        "Runtime.default.unsafeRun(for {\n",
        "  i <- addz\n",
        "  _ <- console.putStrLn(s\"i = $i\")\n",
        "} yield ())"
      ],
      "outputs" : [
        {
          "name" : "stdout",
          "text" : [
            "i = 5\n"
          ],
          "output_type" : "stream"
        }
      ]
    },
    {
      "cell_type" : "code",
      "execution_count" : 2,
      "metadata" : {
        "cell.metadata.exec_info" : {
          "startTs" : 1609859972302,
          "endTs" : 1609859975510
        },
        "language" : "scala"
      },
      "language" : "scala",
      "source" : [
        "import java.util.concurrent.TimeUnit\n",
        "import java.util.concurrent.ScheduledThreadPoolExecutor\n",
        "\n",
        "val scheduler = new ScheduledThreadPoolExecutor(1)\n",
        "\n",
        "def sleep(n: Long, unit: TimeUnit): UIO[Unit] =\n",
        "    UIO.effectAsync[Unit] { callback =>\n",
        "      scheduler.schedule(\n",
        "        new Runnable {\n",
        "          def run = callback(UIO.unit)\n",
        "        },\n",
        "        n,\n",
        "        unit\n",
        "      )\n",
        "    }\n",
        "\n",
        "Runtime.default.unsafeRun(for {\n",
        "  _ <- console.putStrLn(\"Hello\")\n",
        "  _ <- sleep(3L, TimeUnit.SECONDS)\n",
        "  _ <- console.putStrLn(\"World\")\n",
        "  _ <- UIO(scheduler.shutdown())\n",
        "} yield ())"
      ],
      "outputs" : [
        {
          "name" : "stdout",
          "text" : [
            "Hello\n",
            "World\n"
          ],
          "output_type" : "stream"
        }
      ]
    }
  ]
}