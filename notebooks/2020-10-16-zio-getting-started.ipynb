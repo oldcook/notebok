{
  "metadata" : {
    "config" : {
      "dependencies" : {
        "scala" : [
          "dev.zio:zio_2.12:1.0.3"
        ]
      },
      "exclusions" : [
      ],
      "repositories" : [
      ],
      "sparkConfig" : {
        
      },
      "env" : {
        
      }
    },
    "language_info" : {
      "name" : "scala"
    }
  },
  "nbformat" : 4,
  "nbformat_minor" : 0,
  "cells" : [
    {
      "cell_type" : "markdown",
      "execution_count" : 0,
      "metadata" : {
        "language" : "text"
      },
      "language" : "text",
      "source" : [
        "# 2020 10 16 ZIO getting started\n",
        "\n",
        "**ZIO Effect Async Example**\n",
        "\n",
        "\n"
      ],
      "outputs" : [
      ]
    },
    {
      "cell_type" : "code",
      "execution_count" : 1,
      "metadata" : {
        "cell.metadata.exec_info" : {
          "startTs" : 1609857107168,
          "endTs" : 1609857107415
        },
        "language" : "scala"
      },
      "language" : "scala",
      "source" : [
        "import zio._\n",
        "\n",
        "def add(callme: Int => Unit): Unit = callme(3)\n",
        "\n",
        "val addz: UIO[Int] = UIO.effectAsync[Int]{ callback => \n",
        "  add(i => callback(UIO.succeed(i + 2)))\n",
        "}\n",
        "\n",
        "Runtime.default.unsafeRun(for {\n",
        "  i <- addz\n",
        "  _ <- console.putStrLn(s\"i = $i\")\n",
        "} yield ())"
      ],
      "outputs" : [
        {
          "name" : "stdout",
          "text" : [
            "i = 5\n"
          ],
          "output_type" : "stream"
        }
      ]
    }
  ]
}